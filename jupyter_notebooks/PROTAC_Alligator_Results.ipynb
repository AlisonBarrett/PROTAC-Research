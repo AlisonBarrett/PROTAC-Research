{
 "cells": [
  {
   "attachments": {},
   "cell_type": "markdown",
   "metadata": {},
   "source": [
    "## DNA-encoded PROTACS targeting the proto-oncogenic transcription factor E2F1 "
   ]
  },
  {
   "attachments": {},
   "cell_type": "markdown",
   "metadata": {},
   "source": [
    "### TABLE OF CONTENTS\n",
    "\n",
    "[type here]"
   ]
  },
  {
   "attachments": {},
   "cell_type": "markdown",
   "metadata": {},
   "source": [
    "### ABSTRACT\n",
    "\n",
    "[type here]"
   ]
  },
  {
   "attachments": {},
   "cell_type": "markdown",
   "metadata": {},
   "source": [
    "### INTRODUCTION\n",
    "\n",
    "[type here]"
   ]
  },
  {
   "attachments": {},
   "cell_type": "markdown",
   "metadata": {},
   "source": [
    "### METHODS\n",
    "\n",
    "[type here]"
   ]
  },
  {
   "attachments": {},
   "cell_type": "markdown",
   "metadata": {},
   "source": [
    "**Plasmid-based PROTAC library**"
   ]
  },
  {
   "cell_type": "code",
   "execution_count": 17,
   "metadata": {},
   "outputs": [],
   "source": [
    "#gene cassette design here"
   ]
  },
  {
   "cell_type": "code",
   "execution_count": 18,
   "metadata": {},
   "outputs": [],
   "source": [
    "#Vector image stuff here"
   ]
  },
  {
   "attachments": {},
   "cell_type": "markdown",
   "metadata": {},
   "source": [
    "**Development of real-time luciferase-based degradation assay**"
   ]
  },
  {
   "cell_type": "code",
   "execution_count": 19,
   "metadata": {},
   "outputs": [],
   "source": [
    "#tiff stack gif movie thing here"
   ]
  },
  {
   "cell_type": "code",
   "execution_count": 20,
   "metadata": {},
   "outputs": [],
   "source": [
    "#DAPI image here"
   ]
  },
  {
   "attachments": {},
   "cell_type": "markdown",
   "metadata": {},
   "source": [
    "### RESULTS\n",
    "\n",
    "[type here]"
   ]
  },
  {
   "attachments": {},
   "cell_type": "markdown",
   "metadata": {},
   "source": [
    "Setup - **DO NOT** run cell below or previously imported data will be lost if not local"
   ]
  },
  {
   "cell_type": "code",
   "execution_count": 21,
   "metadata": {},
   "outputs": [],
   "source": [
    "### DO NOT RUN THIS CELL ###\n",
    "### DO NOT RUN THIS CELL ###\n",
    "### DO NOT RUN THIS CELL ###\n",
    "### DO NOT RUN THIS CELL ###\n",
    "\n",
    "import pandas as pd\n",
    "import matplotlib.pyplot as plt\n",
    "import ipywidgets as widgets\n",
    "from IPython.display import display\n",
    "\n",
    "#data imported is unaveraged triplicates, normalized by transfection efficiency; first column is time points\n",
    "multipromotor_data = pd.read_csv(\"..\\data\\_normalized_to_mAz_Multipromotor_ALL.csv\")"
   ]
  },
  {
   "attachments": {},
   "cell_type": "markdown",
   "metadata": {},
   "source": [
    "Create dataframes for means and standard deviations"
   ]
  },
  {
   "cell_type": "code",
   "execution_count": 22,
   "metadata": {},
   "outputs": [
    {
     "data": {
      "text/html": [
       "<div>\n",
       "<style scoped>\n",
       "    .dataframe tbody tr th:only-of-type {\n",
       "        vertical-align: middle;\n",
       "    }\n",
       "\n",
       "    .dataframe tbody tr th {\n",
       "        vertical-align: top;\n",
       "    }\n",
       "\n",
       "    .dataframe thead th {\n",
       "        text-align: right;\n",
       "    }\n",
       "</style>\n",
       "<table border=\"1\" class=\"dataframe\">\n",
       "  <thead>\n",
       "    <tr style=\"text-align: right;\">\n",
       "      <th></th>\n",
       "      <th>time</th>\n",
       "      <th>CMV-pcDNA 3xFLAG</th>\n",
       "      <th>CMV-mAZ</th>\n",
       "      <th>CMV-P5C</th>\n",
       "      <th>CMV-P5D</th>\n",
       "      <th>CMV-P5E</th>\n",
       "      <th>CMV-P5F</th>\n",
       "      <th>CMV-P5G</th>\n",
       "      <th>CMV-P6C</th>\n",
       "      <th>CMV-P6D</th>\n",
       "      <th>...</th>\n",
       "      <th>BUB1-P13C</th>\n",
       "      <th>BUB1-P13D</th>\n",
       "      <th>BUB1-P13E</th>\n",
       "      <th>BUB1-P13F</th>\n",
       "      <th>BUB1-P13G</th>\n",
       "      <th>BUB1-P14C</th>\n",
       "      <th>BUB1-P14D</th>\n",
       "      <th>BUB1-P14E</th>\n",
       "      <th>BUB1-P14F</th>\n",
       "      <th>BUB1-P14G</th>\n",
       "    </tr>\n",
       "  </thead>\n",
       "  <tbody>\n",
       "    <tr>\n",
       "      <th>0</th>\n",
       "      <td>8.0</td>\n",
       "      <td>1953.796920</td>\n",
       "      <td>1076.080353</td>\n",
       "      <td>1888.549101</td>\n",
       "      <td>1798.599773</td>\n",
       "      <td>4159.977518</td>\n",
       "      <td>4945.270200</td>\n",
       "      <td>1882.752805</td>\n",
       "      <td>866.134640</td>\n",
       "      <td>1120.451792</td>\n",
       "      <td>...</td>\n",
       "      <td>113.007437</td>\n",
       "      <td>351.055018</td>\n",
       "      <td>779.775095</td>\n",
       "      <td>175.916037</td>\n",
       "      <td>498.860122</td>\n",
       "      <td>413.651324</td>\n",
       "      <td>1963.333110</td>\n",
       "      <td>1014.675181</td>\n",
       "      <td>228.527055</td>\n",
       "      <td>109.919090</td>\n",
       "    </tr>\n",
       "    <tr>\n",
       "      <th>1</th>\n",
       "      <td>8.5</td>\n",
       "      <td>2275.741159</td>\n",
       "      <td>1380.075841</td>\n",
       "      <td>2407.718049</td>\n",
       "      <td>1503.608547</td>\n",
       "      <td>4415.893490</td>\n",
       "      <td>5057.066487</td>\n",
       "      <td>3326.065432</td>\n",
       "      <td>1635.878293</td>\n",
       "      <td>1659.102171</td>\n",
       "      <td>...</td>\n",
       "      <td>94.264646</td>\n",
       "      <td>363.975735</td>\n",
       "      <td>865.684322</td>\n",
       "      <td>289.407240</td>\n",
       "      <td>613.683521</td>\n",
       "      <td>424.765282</td>\n",
       "      <td>2175.709737</td>\n",
       "      <td>1035.106660</td>\n",
       "      <td>250.990284</td>\n",
       "      <td>63.144168</td>\n",
       "    </tr>\n",
       "    <tr>\n",
       "      <th>2</th>\n",
       "      <td>9.0</td>\n",
       "      <td>2100.939861</td>\n",
       "      <td>1045.166558</td>\n",
       "      <td>2174.729599</td>\n",
       "      <td>1314.167828</td>\n",
       "      <td>3504.012716</td>\n",
       "      <td>5584.309916</td>\n",
       "      <td>3931.858658</td>\n",
       "      <td>2045.498269</td>\n",
       "      <td>2386.628053</td>\n",
       "      <td>...</td>\n",
       "      <td>113.499718</td>\n",
       "      <td>434.595094</td>\n",
       "      <td>789.929389</td>\n",
       "      <td>334.915946</td>\n",
       "      <td>542.889429</td>\n",
       "      <td>370.174987</td>\n",
       "      <td>1981.791142</td>\n",
       "      <td>944.730025</td>\n",
       "      <td>303.649092</td>\n",
       "      <td>127.319904</td>\n",
       "    </tr>\n",
       "    <tr>\n",
       "      <th>3</th>\n",
       "      <td>9.5</td>\n",
       "      <td>1794.123245</td>\n",
       "      <td>900.958332</td>\n",
       "      <td>1789.729264</td>\n",
       "      <td>2386.889075</td>\n",
       "      <td>2976.311615</td>\n",
       "      <td>5709.117112</td>\n",
       "      <td>4486.130688</td>\n",
       "      <td>2515.746276</td>\n",
       "      <td>3408.607043</td>\n",
       "      <td>...</td>\n",
       "      <td>75.436981</td>\n",
       "      <td>326.229757</td>\n",
       "      <td>719.236610</td>\n",
       "      <td>346.211388</td>\n",
       "      <td>730.087946</td>\n",
       "      <td>350.722374</td>\n",
       "      <td>1718.493359</td>\n",
       "      <td>857.974949</td>\n",
       "      <td>323.973488</td>\n",
       "      <td>133.420201</td>\n",
       "    </tr>\n",
       "    <tr>\n",
       "      <th>4</th>\n",
       "      <td>10.0</td>\n",
       "      <td>1548.533550</td>\n",
       "      <td>997.325693</td>\n",
       "      <td>1556.062921</td>\n",
       "      <td>4025.167171</td>\n",
       "      <td>3116.608531</td>\n",
       "      <td>7603.045724</td>\n",
       "      <td>4987.577022</td>\n",
       "      <td>2730.047679</td>\n",
       "      <td>4420.297274</td>\n",
       "      <td>...</td>\n",
       "      <td>105.477679</td>\n",
       "      <td>265.532332</td>\n",
       "      <td>679.494992</td>\n",
       "      <td>372.478536</td>\n",
       "      <td>925.290325</td>\n",
       "      <td>368.093699</td>\n",
       "      <td>1598.697297</td>\n",
       "      <td>828.692745</td>\n",
       "      <td>401.145981</td>\n",
       "      <td>333.945772</td>\n",
       "    </tr>\n",
       "  </tbody>\n",
       "</table>\n",
       "<p>5 rows × 160 columns</p>\n",
       "</div>"
      ],
      "text/plain": [
       "   time  CMV-pcDNA 3xFLAG      CMV-mAZ      CMV-P5C      CMV-P5D      CMV-P5E  \\\n",
       "0   8.0       1953.796920  1076.080353  1888.549101  1798.599773  4159.977518   \n",
       "1   8.5       2275.741159  1380.075841  2407.718049  1503.608547  4415.893490   \n",
       "2   9.0       2100.939861  1045.166558  2174.729599  1314.167828  3504.012716   \n",
       "3   9.5       1794.123245   900.958332  1789.729264  2386.889075  2976.311615   \n",
       "4  10.0       1548.533550   997.325693  1556.062921  4025.167171  3116.608531   \n",
       "\n",
       "       CMV-P5F      CMV-P5G      CMV-P6C      CMV-P6D  ...   BUB1-P13C  \\\n",
       "0  4945.270200  1882.752805   866.134640  1120.451792  ...  113.007437   \n",
       "1  5057.066487  3326.065432  1635.878293  1659.102171  ...   94.264646   \n",
       "2  5584.309916  3931.858658  2045.498269  2386.628053  ...  113.499718   \n",
       "3  5709.117112  4486.130688  2515.746276  3408.607043  ...   75.436981   \n",
       "4  7603.045724  4987.577022  2730.047679  4420.297274  ...  105.477679   \n",
       "\n",
       "    BUB1-P13D   BUB1-P13E   BUB1-P13F   BUB1-P13G   BUB1-P14C    BUB1-P14D  \\\n",
       "0  351.055018  779.775095  175.916037  498.860122  413.651324  1963.333110   \n",
       "1  363.975735  865.684322  289.407240  613.683521  424.765282  2175.709737   \n",
       "2  434.595094  789.929389  334.915946  542.889429  370.174987  1981.791142   \n",
       "3  326.229757  719.236610  346.211388  730.087946  350.722374  1718.493359   \n",
       "4  265.532332  679.494992  372.478536  925.290325  368.093699  1598.697297   \n",
       "\n",
       "     BUB1-P14E   BUB1-P14F   BUB1-P14G  \n",
       "0  1014.675181  228.527055  109.919090  \n",
       "1  1035.106660  250.990284   63.144168  \n",
       "2   944.730025  303.649092  127.319904  \n",
       "3   857.974949  323.973488  133.420201  \n",
       "4   828.692745  401.145981  333.945772  \n",
       "\n",
       "[5 rows x 160 columns]"
      ]
     },
     "execution_count": 22,
     "metadata": {},
     "output_type": "execute_result"
    }
   ],
   "source": [
    "time_points = multipromotor_data['time'].tolist()\n",
    "\n",
    "#create dfs with means and stds across triplicates; filter by regex with 2 since every third column in multipromotor_data ends in '2'\n",
    "multipromotor_means = multipromotor_data.rolling(window=3, axis=1).mean().filter(regex=('2$'))\n",
    "multipromotor_stds = multipromotor_data.rolling(window=3, axis=1).std().filter(regex=('2$'))\n",
    "\n",
    "#clean column labels to be vanilla (e.g. CMV-mAZ vs CMV-mAZ.2)\n",
    "for label, content in multipromotor_means.items():\n",
    "    multipromotor_means.rename(columns={label:label.rstrip('.2')}, inplace = True)\n",
    "\n",
    "for label, content in multipromotor_stds.items():\n",
    "    multipromotor_stds.rename(columns={label:label.rstrip('.2')}, inplace = True)\n",
    "\n",
    "#insert time points to first column of each dataframe\n",
    "multipromotor_means.insert(0, 'time', time_points)\n",
    "multipromotor_stds.insert(0, 'time', time_points)\n",
    "\n",
    "multipromotor_stds.head()"
   ]
  },
  {
   "attachments": {},
   "cell_type": "markdown",
   "metadata": {},
   "source": [
    "Widget setup: create dicts for button names"
   ]
  },
  {
   "cell_type": "code",
   "execution_count": 23,
   "metadata": {},
   "outputs": [],
   "source": [
    "#group selector button names : column name prefix' in dataframes\n",
    "promotor_names = {'CMV':'CMV',\n",
    "                  'CDC45':'CDC45-',\n",
    "                  'CDC45_CHR_mutant':'CDC45mut',\n",
    "                  'ORC1':'ORC1',\n",
    "                  'BUB1': 'BUB1'}\n",
    "\n",
    "#promotor group selector : list of column labels for that promotor dataset\n",
    "promotor_dataset_labels = {}\n",
    "\n",
    "for group_selector, group_prefix in promotor_names.items():\n",
    "    promotor_dataset_labels[group_selector] = list(multipromotor_means.filter(regex=('^'+group_prefix)))"
   ]
  },
  {
   "attachments": {},
   "cell_type": "markdown",
   "metadata": {},
   "source": [
    "Widget creator"
   ]
  },
  {
   "cell_type": "code",
   "execution_count": 27,
   "metadata": {},
   "outputs": [
    {
     "data": {
      "application/vnd.jupyter.widget-view+json": {
       "model_id": "d5220e3300da40159fe31def7e52953b",
       "version_major": 2,
       "version_minor": 0
      },
      "text/plain": [
       "VBox(children=(VBox(children=(Button(description='CMV', style=ButtonStyle()), Checkbox(value=False, descriptio…"
      ]
     },
     "metadata": {},
     "output_type": "display_data"
    },
    {
     "data": {
      "application/vnd.jupyter.widget-view+json": {
       "model_id": "a4da180eac934b17941e18b7a9b23399",
       "version_major": 2,
       "version_minor": 0
      },
      "text/plain": [
       "Output()"
      ]
     },
     "metadata": {},
     "output_type": "display_data"
    }
   ],
   "source": [
    "# Create a dictionary to store the checkbox widgets\n",
    "checkboxes = {}\n",
    "\n",
    "# Create buttons for parents and checkboxes for children\n",
    "for parent, children in promotor_dataset_labels.items():\n",
    "    parent_button = widgets.Button(description=parent)\n",
    "    children_checkboxes = [widgets.Checkbox(description=child) for child in children]\n",
    "    checkboxes[parent] = {'parent': parent_button, 'children': children_checkboxes}\n",
    "\n",
    "# Function to handle parent button click\n",
    "def handle_parent_button_click(button):\n",
    "    parent_data = checkboxes[button.description]\n",
    "    parent_value = not all(checkbox.value for checkbox in parent_data['children'])\n",
    "    with output_widget:\n",
    "        for checkbox in parent_data['children']:\n",
    "            checkbox.value = parent_value\n",
    "            checkbox_style[checkbox.description] = parent_value\n",
    "\n",
    "    parent_button_style = button_style[button.description]\n",
    "    parent_button_style['selected'] = parent_value\n",
    "    button.style.button_color = 'lightgreen' if parent_value else None\n",
    "\n",
    "    update_output()\n",
    "\n",
    "# Register the function to handle parent button click\n",
    "for parent_data in checkboxes.values():\n",
    "    parent_data['parent'].on_click(handle_parent_button_click)\n",
    "\n",
    "# Function to handle child checkbox toggling\n",
    "def handle_child_checkbox_toggle(change):\n",
    "    checkbox = change['owner']\n",
    "    parent_button = next((key for key, value in checkboxes.items() if checkbox in value['children']), None)\n",
    "    if parent_button:\n",
    "        parent_data = checkboxes[parent_button]\n",
    "        parent_data['parent'].value = all(child.value for child in parent_data['children'])\n",
    "    update_output()\n",
    "\n",
    "# Register the function to handle child checkbox toggling\n",
    "for parent_data in checkboxes.values():\n",
    "    for checkbox in parent_data['children']:\n",
    "        checkbox.observe(handle_child_checkbox_toggle, 'value')\n",
    "\n",
    "# Store the button styles and checkbox styles\n",
    "button_style = {parent: {'selected': False} for parent in checkboxes}\n",
    "checkbox_style = {checkbox: False for parent in checkboxes for checkbox in checkboxes[parent]['children']}\n",
    "\n",
    "# Display the checkboxes\n",
    "checkboxes_widgets = []\n",
    "for parent_data in checkboxes.values():\n",
    "    parent_button = parent_data['parent']\n",
    "    children_checkboxes = parent_data['children']\n",
    "    checkboxes_widgets.append(widgets.VBox([parent_button] + children_checkboxes))\n",
    "\n",
    "checkboxes_widget = widgets.VBox(checkboxes_widgets)\n",
    "display(checkboxes_widget)\n",
    "\n",
    "# Display the output list\n",
    "output_widget = widgets.Output()\n",
    "display(output_widget)\n",
    "\n",
    "# Function to update the output list\n",
    "def update_output():\n",
    "    global selected_data\n",
    "    selected_data = []\n",
    "    for parent_data in checkboxes.values():\n",
    "        for checkbox in parent_data['children']:\n",
    "            if checkbox.value:\n",
    "                selected_data.append(checkbox.description)\n",
    "    with output_widget:\n",
    "        output_widget.clear_output()\n",
    "        print(\"Selected data:\")\n",
    "        if len(selected_data) > 0:\n",
    "            for item in selected_data:\n",
    "                print(item)\n",
    "        else:\n",
    "            print(\"No data selected.\")\n",
    "\n",
    "# Call the function initially to display the initial state\n",
    "update_output()\n"
   ]
  },
  {
   "attachments": {},
   "cell_type": "markdown",
   "metadata": {},
   "source": [
    "**Summary of preliminary PROTAC performance**"
   ]
  },
  {
   "cell_type": "code",
   "execution_count": 25,
   "metadata": {},
   "outputs": [],
   "source": [
    "#summary dot plot here"
   ]
  },
  {
   "attachments": {},
   "cell_type": "markdown",
   "metadata": {},
   "source": [
    "**Noteable PROTACs**"
   ]
  },
  {
   "cell_type": "code",
   "execution_count": 29,
   "metadata": {},
   "outputs": [
    {
     "data": {
      "image/png": "[encoded data removed]",
      "text/plain": [
       "<Figure size 640x480 with 1 Axes>"
      ]
     },
     "metadata": {},
     "output_type": "display_data"
    }
   ],
   "source": [
    "plt.figure()\n",
    "for data in selected_data:\n",
    "    plt.plot(multipromotor_means.index, multipromotor_means[data])\n",
    "    plt.fill_between(multipromotor_stds.index, multipromotor_means[data] - 2 * multipromotor_stds[data], multipromotor_means[data] + 2 * multipromotor_stds[data], alpha=0.2)\n"
   ]
  },
  {
   "attachments": {},
   "cell_type": "markdown",
   "metadata": {},
   "source": [
    "### FUTURE DIRECTIONS\n",
    "\n",
    "[type here]"
   ]
  }
 ],
 "metadata": {
  "kernelspec": {
   "display_name": "base",
   "language": "python",
   "name": "python3"
  },
  "language_info": {
   "codemirror_mode": {
    "name": "ipython",
    "version": 3
   },
   "file_extension": ".py",
   "mimetype": "text/x-python",
   "name": "python",
   "nbconvert_exporter": "python",
   "pygments_lexer": "ipython3",
   "version": "3.10.9"
  },
  "orig_nbformat": 4,
  "vscode": {
   "interpreter": {
    "hash": "ce09af2e31b89b4521f1dbd763a44c9ecc0712bf4c121372b092a6109fa241d3"
   }
  }
 },
 "nbformat": 4,
 "nbformat_minor": 2
}
