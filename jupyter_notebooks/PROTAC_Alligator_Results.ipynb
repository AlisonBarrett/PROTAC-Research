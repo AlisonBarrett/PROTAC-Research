{
 "cells": [
  {
   "attachments": {},
   "cell_type": "markdown",
   "metadata": {},
   "source": [
    "## DNA-encoded PROTACS targeting the proto-oncogenic transcription factor E2F1 "
   ]
  },
  {
   "attachments": {},
   "cell_type": "markdown",
   "metadata": {},
   "source": [
    "### TABLE OF CONTENTS\n",
    "\n",
    "[type here]"
   ]
  },
  {
   "attachments": {},
   "cell_type": "markdown",
   "metadata": {},
   "source": [
    "### ABSTRACT\n",
    "\n",
    "[type here]"
   ]
  },
  {
   "attachments": {},
   "cell_type": "markdown",
   "metadata": {},
   "source": [
    "### INTRODUCTION\n",
    "\n",
    "[type here]"
   ]
  },
  {
   "attachments": {},
   "cell_type": "markdown",
   "metadata": {},
   "source": [
    "### METHODS\n",
    "\n",
    "[type here]"
   ]
  },
  {
   "attachments": {},
   "cell_type": "markdown",
   "metadata": {},
   "source": [
    "**Plasmid-based PROTAC library**"
   ]
  },
  {
   "cell_type": "code",
   "execution_count": null,
   "metadata": {},
   "outputs": [],
   "source": [
    "#gene cassette design here"
   ]
  },
  {
   "cell_type": "code",
   "execution_count": null,
   "metadata": {},
   "outputs": [],
   "source": [
    "#Vector image stuff here"
   ]
  },
  {
   "attachments": {},
   "cell_type": "markdown",
   "metadata": {},
   "source": [
    "**Development of real-time luciferase-based degradation assay**"
   ]
  },
  {
   "cell_type": "code",
   "execution_count": null,
   "metadata": {},
   "outputs": [],
   "source": [
    "#tiff stack gif movie thing here"
   ]
  },
  {
   "cell_type": "code",
   "execution_count": null,
   "metadata": {},
   "outputs": [],
   "source": [
    "#DAPI image here"
   ]
  },
  {
   "attachments": {},
   "cell_type": "markdown",
   "metadata": {},
   "source": [
    "### RESULTS\n",
    "\n",
    "[type here]"
   ]
  },
  {
   "attachments": {},
   "cell_type": "markdown",
   "metadata": {},
   "source": [
    "Setup - **DO NOT** run cell below or previously imported data will be lost if not local"
   ]
  },
  {
   "cell_type": "code",
   "execution_count": null,
   "metadata": {},
   "outputs": [],
   "source": [
    "### DO NOT RUN THIS CELL ###\n",
    "\n",
    "#data imported is unaveraged triplicates, normalized by transfection efficiency\n",
    "import numpy as np\n",
    "import pandas as pd\n",
    "import plotly.express as px\n",
    "#pd.options.plotting.backend = \"plotly\"\n",
    "\n",
    "df_all_data = pd.read_csv(\".\\_normalized_to_mAz_Multipromotor_ALL.csv\")\n",
    "\n",
    "#for label, content in df_all_data.items():\n",
    "#    relabel = label.rstrip('.1').rstrip('.2')\n",
    "#    df_all_data.rename(columns={label:relabel}, inplace = True)\n",
    "\n",
    "time_points = df_all_data['time'].tolist()\n",
    "\n",
    "df_all_data = df_all_data.drop('time', axis=1)\n",
    "\n",
    "#create dfs with means and stds across triplicates; filter by regex with 2 since every third column in initial df ends in '2'\n",
    "all_means = df_all_data.rolling(window=3, axis=1, min_periods=3).mean().filter(regex=('2$'))\n",
    "all_stds = df_all_data.rolling(window=3, axis=1, min_periods=3).std().filter(regex=('2$'))"
   ]
  },
  {
   "attachments": {},
   "cell_type": "markdown",
   "metadata": {},
   "source": [
    "Make new dataframes for each promotor:"
   ]
  },
  {
   "cell_type": "code",
   "execution_count": null,
   "metadata": {},
   "outputs": [],
   "source": [
    "cmv = df_all_data.filter(regex=(\"time|^CMV\"))\n",
    "cdc45 = df_all_data.filter(regex=(\"time|^cdc45-\"))\n",
    "cdc45_mut = df_all_data.filter(regex=(\"time|^cdc45m\"))\n",
    "orc1 = df_all_data.filter(regex=(\"time|^ORC1\"))\n",
    "bub1 = df_all_data.filter(regex=(\"time|^Bub1\"))\n",
    "\n",
    "data[\"cmv\"][0] = df_all_data.filter(regex=(\"time|^CMV\"))\n",
    "data[\"cmv\"][1] = cmv.rolling(window=3, axis=1, step=3, min_periods=1).mean()"
   ]
  },
  {
   "attachments": {},
   "cell_type": "markdown",
   "metadata": {},
   "source": [
    "Make dataframes of averages for each promotor:"
   ]
  },
  {
   "cell_type": "code",
   "execution_count": null,
   "metadata": {},
   "outputs": [],
   "source": [
    "cmv_avg = cmv.rolling(window=3, axis=1, step=3, min_periods=1).mean()\n",
    "cdc45_avg = cdc45.rolling(window=3, axis=1, step=3, min_periods=1).mean()\n",
    "cdc45mut_avg = cdc45_mut.rolling(window=3, axis=1, step=3, min_periods=1).mean()\n",
    "orc1_avg = orc1.rolling(window=3, axis=1, step=3, min_periods=1).mean()\n",
    "bub1_avg = bub1.rolling(window=3, axis=1, step=3, min_periods=1).mean()\n",
    "cmv_avg.head()"
   ]
  },
  {
   "attachments": {},
   "cell_type": "markdown",
   "metadata": {},
   "source": [
    "Make dataframes of standard deviations for each promotor:"
   ]
  },
  {
   "cell_type": "code",
   "execution_count": null,
   "metadata": {},
   "outputs": [],
   "source": [
    "cmv_std = cmv.rolling(window=3, axis=1, step=3, min_periods=1).std()\n",
    "cdc45_std = cdc45.rolling(window=3, axis=1, step=3, min_periods=1).std()\n",
    "cdc45mut_std = cdc45_mut.rolling(window=3, axis=1, step=3, min_periods=1).std()\n",
    "orc1_std = orc1.rolling(window=3, axis=1, step=3, min_periods=1).std()\n",
    "bub1_std = bub1.rolling(window=3, axis=1, step=3, min_periods=1).std()\n",
    "cmv_std.head()"
   ]
  },
  {
   "cell_type": "code",
   "execution_count": null,
   "metadata": {},
   "outputs": [],
   "source": [
    "columns = list(df_all_data)\n",
    "df_all_data.plot(x='time', y = columns[4:10])"
   ]
  },
  {
   "attachments": {},
   "cell_type": "markdown",
   "metadata": {},
   "source": [
    "**Summary of preliminary PROTAC performance**"
   ]
  },
  {
   "cell_type": "code",
   "execution_count": null,
   "metadata": {},
   "outputs": [],
   "source": [
    "#summary dot plot here"
   ]
  },
  {
   "attachments": {},
   "cell_type": "markdown",
   "metadata": {},
   "source": [
    "**Noteable PROTACs**"
   ]
  },
  {
   "cell_type": "code",
   "execution_count": null,
   "metadata": {},
   "outputs": [],
   "source": [
    "#line graphs here"
   ]
  },
  {
   "attachments": {},
   "cell_type": "markdown",
   "metadata": {},
   "source": [
    "### FUTURE DIRECTIONS\n",
    "\n",
    "[type here]"
   ]
  }
 ],
 "metadata": {
  "kernelspec": {
   "display_name": "base",
   "language": "python",
   "name": "python3"
  },
  "language_info": {
   "codemirror_mode": {
    "name": "ipython",
    "version": 3
   },
   "file_extension": ".py",
   "mimetype": "text/x-python",
   "name": "python",
   "nbconvert_exporter": "python",
   "pygments_lexer": "ipython3",
   "version": "3.10.9"
  },
  "orig_nbformat": 4,
  "vscode": {
   "interpreter": {
    "hash": "ce09af2e31b89b4521f1dbd763a44c9ecc0712bf4c121372b092a6109fa241d3"
   }
  }
 },
 "nbformat": 4,
 "nbformat_minor": 2
}
