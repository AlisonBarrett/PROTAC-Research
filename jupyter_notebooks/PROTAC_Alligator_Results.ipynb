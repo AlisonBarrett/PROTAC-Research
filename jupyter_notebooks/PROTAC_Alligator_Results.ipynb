{
 "cells": [
  {
   "attachments": {},
   "cell_type": "markdown",
   "metadata": {},
   "source": [
    "## DNA-encoded PROTACS targeting the proto-oncogenic transcription factor E2F1 "
   ]
  },
  {
   "attachments": {},
   "cell_type": "markdown",
   "metadata": {},
   "source": [
    "### TABLE OF CONTENTS\n",
    "\n",
    "[type here]"
   ]
  },
  {
   "attachments": {},
   "cell_type": "markdown",
   "metadata": {},
   "source": [
    "### ABSTRACT\n",
    "\n",
    "[type here]"
   ]
  },
  {
   "attachments": {},
   "cell_type": "markdown",
   "metadata": {},
   "source": [
    "### INTRODUCTION\n",
    "\n",
    "[type here]"
   ]
  },
  {
   "attachments": {},
   "cell_type": "markdown",
   "metadata": {},
   "source": [
    "### METHODS\n",
    "\n",
    "[type here]"
   ]
  },
  {
   "attachments": {},
   "cell_type": "markdown",
   "metadata": {},
   "source": [
    "**Plasmid-based PROTAC library**"
   ]
  },
  {
   "cell_type": "code",
   "execution_count": null,
   "metadata": {},
   "outputs": [],
   "source": [
    "#gene cassette design here"
   ]
  },
  {
   "cell_type": "code",
   "execution_count": null,
   "metadata": {},
   "outputs": [],
   "source": [
    "#Vector image stuff here"
   ]
  },
  {
   "attachments": {},
   "cell_type": "markdown",
   "metadata": {},
   "source": [
    "**Development of real-time luciferase-based degradation assay**"
   ]
  },
  {
   "cell_type": "code",
   "execution_count": null,
   "metadata": {},
   "outputs": [],
   "source": [
    "#tiff stack gif movie thing here"
   ]
  },
  {
   "cell_type": "code",
   "execution_count": null,
   "metadata": {},
   "outputs": [],
   "source": [
    "#DAPI image here"
   ]
  },
  {
   "attachments": {},
   "cell_type": "markdown",
   "metadata": {},
   "source": [
    "### RESULTS\n",
    "\n",
    "[type here]"
   ]
  },
  {
   "attachments": {},
   "cell_type": "markdown",
   "metadata": {},
   "source": [
    "Setup - **DO NOT** run cell below or previously imported data will be lost if not local"
   ]
  },
  {
   "cell_type": "code",
   "execution_count": null,
   "metadata": {},
   "outputs": [],
   "source": [
    "### DO NOT RUN THIS CELL ###\n",
    "### DO NOT RUN THIS CELL ###\n",
    "### DO NOT RUN THIS CELL ###\n",
    "### DO NOT RUN THIS CELL ###\n",
    "\n",
    "import pandas as pd\n",
    "import numpy as np\n",
    "#import plotly.express as px\n",
    "pd.options.plotting.backend = \"plotly\"\n",
    "\n",
    "#data imported is unaveraged triplicates, normalized by transfection efficiency; first column is time points\n",
    "multipromotor_data = pd.read_csv(\"..\\data\\_normalized_to_mAz_Multipromotor_ALL.csv\")"
   ]
  },
  {
   "attachments": {},
   "cell_type": "markdown",
   "metadata": {},
   "source": [
    "Create dataframes for means and standard deviations"
   ]
  },
  {
   "cell_type": "code",
   "execution_count": null,
   "metadata": {},
   "outputs": [],
   "source": [
    "time_points = multipromotor_data['time'].tolist()\n",
    "\n",
    "#create dfs with means and stds across triplicates; filter by regex with 2 since every third column in multipromotor_data ends in '2'\n",
    "multipromotor_means = multipromotor_data.rolling(window=3, axis=1).mean().filter(regex=('2$'))\n",
    "multipromotor_stds = multipromotor_data.rolling(window=3, axis=1).std().filter(regex=('2$'))\n",
    "\n",
    "#clean column labels to be vanilla (e.g. CMV-mAZ vs CMV-mAZ.2)\n",
    "for label, content in multipromotor_means.items():\n",
    "    multipromotor_means.rename(columns={label:label.rstrip('.2')}, inplace = True)\n",
    "\n",
    "for label, content in multipromotor_stds.items():\n",
    "    multipromotor_stds.rename(columns={label:label.rstrip('.2')}, inplace = True)\n",
    "\n",
    "#insert time points to first column of each dataframe\n",
    "multipromotor_means.insert(0, 'time', time_points)\n",
    "multipromotor_stds.insert(0, 'time', time_points)\n",
    "\n",
    "multipromotor_stds.head()"
   ]
  },
  {
   "attachments": {},
   "cell_type": "markdown",
   "metadata": {},
   "source": [
    "**Summary of preliminary PROTAC performance**"
   ]
  },
  {
   "cell_type": "code",
   "execution_count": null,
   "metadata": {},
   "outputs": [],
   "source": [
    "#summary dot plot here"
   ]
  },
  {
   "attachments": {},
   "cell_type": "markdown",
   "metadata": {},
   "source": [
    "**Noteable PROTACs**"
   ]
  },
  {
   "cell_type": "code",
   "execution_count": null,
   "metadata": {},
   "outputs": [],
   "source": [
    "parent_promotor_names = {'CMV':'CMV',\n",
    "                         'Cdc45': 'cdc45_',\n",
    "                         'Cdc45_CHR_mutant':'cdc45mut',\n",
    "                         'Orc1':'ORC1',\n",
    "                         'Bub1': 'Bub1'}\n",
    "\n",
    "promotor_datasets = {}\n",
    "\n",
    "for group_selector, group_prefix in parent_promotor_names.items():\n",
    "    promotor_datasets[group_selector] = list(multipromotor_means.filter(regex=('^'+group_prefix)))"
   ]
  },
  {
   "cell_type": "code",
   "execution_count": 20,
   "metadata": {},
   "outputs": [
    {
     "ename": "ValueError",
     "evalue": "All arguments should have the same length. The length of argument `error_y` is 5729, whereas the length of  previously-processed arguments ['time'] is 179",
     "output_type": "error",
     "traceback": [
      "\u001b[1;31m---------------------------------------------------------------------------\u001b[0m",
      "\u001b[1;31mValueError\u001b[0m                                Traceback (most recent call last)",
      "Cell \u001b[1;32mIn[20], line 20\u001b[0m\n\u001b[0;32m     16\u001b[0m     my_array \u001b[39m=\u001b[39m np\u001b[39m.\u001b[39mappend(my_array, multipromotor_stds[series]\u001b[39m.\u001b[39mto_numpy())\n\u001b[0;32m     18\u001b[0m \u001b[39m#std_columns = np.array(multipromotor_stds[multipromotor_stds.columns[4]], multipromotor_stds[multipromotor_stds.columns[5]])\u001b[39;00m\n\u001b[1;32m---> 20\u001b[0m multipromotor_means\u001b[39m.\u001b[39;49mplot(kind\u001b[39m=\u001b[39;49m\u001b[39m'\u001b[39;49m\u001b[39mline\u001b[39;49m\u001b[39m'\u001b[39;49m, x\u001b[39m=\u001b[39;49m\u001b[39m'\u001b[39;49m\u001b[39mtime\u001b[39;49m\u001b[39m'\u001b[39;49m, y\u001b[39m=\u001b[39;49mselected_data, error_y\u001b[39m=\u001b[39;49m my_array)\n\u001b[0;32m     22\u001b[0m \u001b[39m#print(multipromotor_stds[multipromotor_stds.columns[4:10]])\u001b[39;00m\n\u001b[0;32m     23\u001b[0m \u001b[39m#print(multipromotor_stds[multipromotor_stds.columns[4:10]].to_numpy())\u001b[39;00m\n",
      "File \u001b[1;32mc:\\Users\\abarr\\anaconda3\\lib\\site-packages\\pandas\\plotting\\_core.py:905\u001b[0m, in \u001b[0;36mPlotAccessor.__call__\u001b[1;34m(self, *args, **kwargs)\u001b[0m\n\u001b[0;32m    903\u001b[0m \u001b[39m# when using another backend, get out of the way\u001b[39;00m\n\u001b[0;32m    904\u001b[0m \u001b[39mif\u001b[39;00m plot_backend\u001b[39m.\u001b[39m\u001b[39m__name__\u001b[39m \u001b[39m!=\u001b[39m \u001b[39m\"\u001b[39m\u001b[39mpandas.plotting._matplotlib\u001b[39m\u001b[39m\"\u001b[39m:\n\u001b[1;32m--> 905\u001b[0m     \u001b[39mreturn\u001b[39;00m plot_backend\u001b[39m.\u001b[39mplot(\u001b[39mself\u001b[39m\u001b[39m.\u001b[39m_parent, x\u001b[39m=\u001b[39mx, y\u001b[39m=\u001b[39my, kind\u001b[39m=\u001b[39mkind, \u001b[39m*\u001b[39m\u001b[39m*\u001b[39mkwargs)\n\u001b[0;32m    907\u001b[0m \u001b[39mif\u001b[39;00m kind \u001b[39mnot\u001b[39;00m \u001b[39min\u001b[39;00m \u001b[39mself\u001b[39m\u001b[39m.\u001b[39m_all_kinds:\n\u001b[0;32m    908\u001b[0m     \u001b[39mraise\u001b[39;00m \u001b[39mValueError\u001b[39;00m(\u001b[39mf\u001b[39m\u001b[39m\"\u001b[39m\u001b[39m{\u001b[39;00mkind\u001b[39m}\u001b[39;00m\u001b[39m is not a valid plot kind\u001b[39m\u001b[39m\"\u001b[39m)\n",
      "File \u001b[1;32mc:\\Users\\abarr\\anaconda3\\lib\\site-packages\\plotly\\__init__.py:103\u001b[0m, in \u001b[0;36mplot\u001b[1;34m(data_frame, kind, **kwargs)\u001b[0m\n\u001b[0;32m    101\u001b[0m     \u001b[39mreturn\u001b[39;00m scatter(data_frame, \u001b[39m*\u001b[39m\u001b[39m*\u001b[39mnew_kwargs)\n\u001b[0;32m    102\u001b[0m \u001b[39mif\u001b[39;00m kind \u001b[39m==\u001b[39m \u001b[39m\"\u001b[39m\u001b[39mline\u001b[39m\u001b[39m\"\u001b[39m:\n\u001b[1;32m--> 103\u001b[0m     \u001b[39mreturn\u001b[39;00m line(data_frame, \u001b[39m*\u001b[39m\u001b[39m*\u001b[39mkwargs)\n\u001b[0;32m    104\u001b[0m \u001b[39mif\u001b[39;00m kind \u001b[39m==\u001b[39m \u001b[39m\"\u001b[39m\u001b[39marea\u001b[39m\u001b[39m\"\u001b[39m:\n\u001b[0;32m    105\u001b[0m     new_kwargs \u001b[39m=\u001b[39m {k: kwargs[k] \u001b[39mfor\u001b[39;00m k \u001b[39min\u001b[39;00m kwargs \u001b[39mif\u001b[39;00m k \u001b[39mnot\u001b[39;00m \u001b[39min\u001b[39;00m [\u001b[39m\"\u001b[39m\u001b[39mstacked\u001b[39m\u001b[39m\"\u001b[39m]}\n",
      "File \u001b[1;32mc:\\Users\\abarr\\anaconda3\\lib\\site-packages\\plotly\\express\\_chart_types.py:264\u001b[0m, in \u001b[0;36mline\u001b[1;34m(data_frame, x, y, line_group, color, line_dash, symbol, hover_name, hover_data, custom_data, text, facet_row, facet_col, facet_col_wrap, facet_row_spacing, facet_col_spacing, error_x, error_x_minus, error_y, error_y_minus, animation_frame, animation_group, category_orders, labels, orientation, color_discrete_sequence, color_discrete_map, line_dash_sequence, line_dash_map, symbol_sequence, symbol_map, markers, log_x, log_y, range_x, range_y, line_shape, render_mode, title, template, width, height)\u001b[0m\n\u001b[0;32m    216\u001b[0m \u001b[39mdef\u001b[39;00m \u001b[39mline\u001b[39m(\n\u001b[0;32m    217\u001b[0m     data_frame\u001b[39m=\u001b[39m\u001b[39mNone\u001b[39;00m,\n\u001b[0;32m    218\u001b[0m     x\u001b[39m=\u001b[39m\u001b[39mNone\u001b[39;00m,\n\u001b[1;32m   (...)\u001b[0m\n\u001b[0;32m    258\u001b[0m     height\u001b[39m=\u001b[39m\u001b[39mNone\u001b[39;00m,\n\u001b[0;32m    259\u001b[0m ) \u001b[39m-\u001b[39m\u001b[39m>\u001b[39m go\u001b[39m.\u001b[39mFigure:\n\u001b[0;32m    260\u001b[0m \u001b[39m    \u001b[39m\u001b[39m\"\"\"\u001b[39;00m\n\u001b[0;32m    261\u001b[0m \u001b[39m    In a 2D line plot, each row of `data_frame` is represented as vertex of\u001b[39;00m\n\u001b[0;32m    262\u001b[0m \u001b[39m    a polyline mark in 2D space.\u001b[39;00m\n\u001b[0;32m    263\u001b[0m \u001b[39m    \"\"\"\u001b[39;00m\n\u001b[1;32m--> 264\u001b[0m     \u001b[39mreturn\u001b[39;00m make_figure(args\u001b[39m=\u001b[39;49m\u001b[39mlocals\u001b[39;49m(), constructor\u001b[39m=\u001b[39;49mgo\u001b[39m.\u001b[39;49mScatter)\n",
      "File \u001b[1;32mc:\\Users\\abarr\\anaconda3\\lib\\site-packages\\plotly\\express\\_core.py:1996\u001b[0m, in \u001b[0;36mmake_figure\u001b[1;34m(args, constructor, trace_patch, layout_patch)\u001b[0m\n\u001b[0;32m   1993\u001b[0m layout_patch \u001b[39m=\u001b[39m layout_patch \u001b[39mor\u001b[39;00m {}\n\u001b[0;32m   1994\u001b[0m apply_default_cascade(args)\n\u001b[1;32m-> 1996\u001b[0m args \u001b[39m=\u001b[39m build_dataframe(args, constructor)\n\u001b[0;32m   1997\u001b[0m \u001b[39mif\u001b[39;00m constructor \u001b[39min\u001b[39;00m [go\u001b[39m.\u001b[39mTreemap, go\u001b[39m.\u001b[39mSunburst, go\u001b[39m.\u001b[39mIcicle] \u001b[39mand\u001b[39;00m args[\u001b[39m\"\u001b[39m\u001b[39mpath\u001b[39m\u001b[39m\"\u001b[39m] \u001b[39mis\u001b[39;00m \u001b[39mnot\u001b[39;00m \u001b[39mNone\u001b[39;00m:\n\u001b[0;32m   1998\u001b[0m     args \u001b[39m=\u001b[39m process_dataframe_hierarchy(args)\n",
      "File \u001b[1;32mc:\\Users\\abarr\\anaconda3\\lib\\site-packages\\plotly\\express\\_core.py:1409\u001b[0m, in \u001b[0;36mbuild_dataframe\u001b[1;34m(args, constructor)\u001b[0m\n\u001b[0;32m   1406\u001b[0m     args[\u001b[39m\"\u001b[39m\u001b[39mcolor\u001b[39m\u001b[39m\"\u001b[39m] \u001b[39m=\u001b[39m \u001b[39mNone\u001b[39;00m\n\u001b[0;32m   1407\u001b[0m \u001b[39m# now that things have been prepped, we do the systematic rewriting of `args`\u001b[39;00m\n\u001b[1;32m-> 1409\u001b[0m df_output, wide_id_vars \u001b[39m=\u001b[39m process_args_into_dataframe(\n\u001b[0;32m   1410\u001b[0m     args, wide_mode, var_name, value_name\n\u001b[0;32m   1411\u001b[0m )\n\u001b[0;32m   1413\u001b[0m \u001b[39m# now that `df_output` exists and `args` contains only references, we complete\u001b[39;00m\n\u001b[0;32m   1414\u001b[0m \u001b[39m# the special-case and wide-mode handling by further rewriting args and/or mutating\u001b[39;00m\n\u001b[0;32m   1415\u001b[0m \u001b[39m# df_output\u001b[39;00m\n\u001b[0;32m   1417\u001b[0m count_name \u001b[39m=\u001b[39m _escape_col_name(df_output, \u001b[39m\"\u001b[39m\u001b[39mcount\u001b[39m\u001b[39m\"\u001b[39m, [var_name, value_name])\n",
      "File \u001b[1;32mc:\\Users\\abarr\\anaconda3\\lib\\site-packages\\plotly\\express\\_core.py:1246\u001b[0m, in \u001b[0;36mprocess_args_into_dataframe\u001b[1;34m(args, wide_mode, var_name, value_name)\u001b[0m\n\u001b[0;32m   1243\u001b[0m         col_name \u001b[39m=\u001b[39m _check_name_not_reserved(field, reserved_names)\n\u001b[0;32m   1245\u001b[0m     \u001b[39mif\u001b[39;00m length \u001b[39mand\u001b[39;00m \u001b[39mlen\u001b[39m(argument) \u001b[39m!=\u001b[39m length:\n\u001b[1;32m-> 1246\u001b[0m         \u001b[39mraise\u001b[39;00m \u001b[39mValueError\u001b[39;00m(\n\u001b[0;32m   1247\u001b[0m             \u001b[39m\"\u001b[39m\u001b[39mAll arguments should have the same length. \u001b[39m\u001b[39m\"\u001b[39m\n\u001b[0;32m   1248\u001b[0m             \u001b[39m\"\u001b[39m\u001b[39mThe length of argument `\u001b[39m\u001b[39m%s\u001b[39;00m\u001b[39m` is \u001b[39m\u001b[39m%d\u001b[39;00m\u001b[39m, whereas the \u001b[39m\u001b[39m\"\u001b[39m\n\u001b[0;32m   1249\u001b[0m             \u001b[39m\"\u001b[39m\u001b[39mlength of  previously-processed arguments \u001b[39m\u001b[39m%s\u001b[39;00m\u001b[39m is \u001b[39m\u001b[39m%d\u001b[39;00m\u001b[39m\"\u001b[39m\n\u001b[0;32m   1250\u001b[0m             \u001b[39m%\u001b[39m (field, \u001b[39mlen\u001b[39m(argument), \u001b[39mstr\u001b[39m(\u001b[39mlist\u001b[39m(df_output\u001b[39m.\u001b[39mcolumns)), length)\n\u001b[0;32m   1251\u001b[0m         )\n\u001b[0;32m   1252\u001b[0m     df_output[\u001b[39mstr\u001b[39m(col_name)] \u001b[39m=\u001b[39m to_unindexed_series(argument)\n\u001b[0;32m   1254\u001b[0m \u001b[39m# Finally, update argument with column name now that column exists\u001b[39;00m\n",
      "\u001b[1;31mValueError\u001b[0m: All arguments should have the same length. The length of argument `error_y` is 5729, whereas the length of  previously-processed arguments ['time'] is 179"
     ]
    }
   ],
   "source": [
    "selected_data = promotor_datasets['CMV']    #returns column labels\n",
    "\n",
    "\n",
    "\n",
    "\"\"\" my_list = []\n",
    "for series in selected_data:\n",
    "    my_list.append(multipromotor_stds[series])\n",
    "    my_series = multipromotor_stds[series]\n",
    "\n",
    "my_array = np.array(my_list[:])\n",
    "\n",
    "print(my_array) \"\"\"\n",
    "\n",
    "\n",
    "\n",
    "my_array = (1)\n",
    "for series in selected_data:\n",
    "    my_array = np.append(my_array, multipromotor_stds[series].to_numpy())\n",
    "\n",
    "#std_columns = np.array(multipromotor_stds[multipromotor_stds.columns[4]], multipromotor_stds[multipromotor_stds.columns[5]])\n",
    "\n",
    "multipromotor_means.plot(kind='line', x='time', y=selected_data, error_y= my_array)\n",
    "\n",
    "#print(multipromotor_stds[multipromotor_stds.columns[4:10]])\n",
    "#print(multipromotor_stds[multipromotor_stds.columns[4:10]].to_numpy())\n"
   ]
  },
  {
   "attachments": {},
   "cell_type": "markdown",
   "metadata": {},
   "source": [
    "### FUTURE DIRECTIONS\n",
    "\n",
    "[type here]"
   ]
  }
 ],
 "metadata": {
  "kernelspec": {
   "display_name": "base",
   "language": "python",
   "name": "python3"
  },
  "language_info": {
   "codemirror_mode": {
    "name": "ipython",
    "version": 3
   },
   "file_extension": ".py",
   "mimetype": "text/x-python",
   "name": "python",
   "nbconvert_exporter": "python",
   "pygments_lexer": "ipython3",
   "version": "3.10.9"
  },
  "orig_nbformat": 4,
  "vscode": {
   "interpreter": {
    "hash": "ce09af2e31b89b4521f1dbd763a44c9ecc0712bf4c121372b092a6109fa241d3"
   }
  }
 },
 "nbformat": 4,
 "nbformat_minor": 2
}
